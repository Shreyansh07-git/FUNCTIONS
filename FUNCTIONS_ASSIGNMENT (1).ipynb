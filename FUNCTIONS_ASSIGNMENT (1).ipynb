{
  "nbformat": 4,
  "nbformat_minor": 0,
  "metadata": {
    "colab": {
      "provenance": []
    },
    "kernelspec": {
      "name": "python3",
      "display_name": "Python 3"
    },
    "language_info": {
      "name": "python"
    }
  },
  "cells": [
    {
      "cell_type": "markdown",
      "source": [
        "##THEORITICAL QUESTOINS"
      ],
      "metadata": {
        "id": "3JMlBwQIzebV"
      }
    },
    {
      "cell_type": "markdown",
      "source": [
        "#QUE1: What is the difference between a function and a method in Python ?\n",
        "#ANS:\n",
        "FUNTION: A function is a block of reusable code that takes some inputs, performs a task, and returns a result. Functions are defined using the def keyword.\n",
        "Global scope: Functions can be defined anywhere in the code and are not tied to any object or class.\n",
        "Calling: You call a function directly using its name.\n",
        "\n",
        "METHOD: A method is a function that is associated with an object (or class) and operates on that object. Methods are typically defined within a class and are called on an instance of the class (an object).\n",
        "Object/Instance scope: Methods belong to objects (or classes) and are called on instances of these objects.\n",
        "Calling: You call a method using an object or class name, followed by a dot (.).\n",
        "\n",
        "#QUE2: Explain the concept of function arguments and parameters in Python ?\n",
        "#ANS:\n",
        "ARGUMENTS: An argument is the actual value or data that is passed to a function when calling it. These values replace the parameters in the function.\n",
        "\n",
        "PARAMETER: A parameter is a variable that is defined in the function declaration (or definition) to accept values. It's a placeholder for the values that will be passed into the function when it is called.\n",
        "\n",
        "TO SUMMARIZE: Parameters are variables defined in the function definition, used to accept the input values. Ans arguments are the actual values passed to the function when it is called.\n",
        "\n",
        "#QUE3: What are the different ways to define and call a function in Python ?\n",
        "#ANS:\n",
        "Basic Function Definition A function is a block of code that performs a specific task. You define it using the def keyword.\n",
        "\n",
        "*Define a function:*\n",
        "\n",
        "def greet(name): print(f\"Hello, {name}!\")\n",
        "\n",
        "-Call the function:\n",
        "\n",
        "greet(\"Alice\") # Output: Hello, Alice!\n",
        "\n",
        "To use the function, call it by its name and give it the necessary input (called arguments):\n",
        "Function with Default Argument You can give parameters default values, so if you don’t pass a value when calling the function, the default is used.\n",
        "\n",
        "*Define a function with a default value:*\n",
        "\n",
        "def greet(name, age=25): print(f\"Hello {name}, you are {age} years old.\")\n",
        "\n",
        "Call the function:\n",
        "greet(\"Bob\") # Uses default age=25 greet(\"Alice\", 30) # Uses 30 for age\n",
        "\n",
        "\n",
        "*THERE ARE MANY MORE WAYS WHICH ARE NAMED AS*\n",
        "\n",
        "-Function with multiple arguments.\n",
        "\n",
        "-Lambda functions.\n",
        "\n",
        "-Default values.\n",
        "\n",
        "-Methods in classes.\n",
        "\n",
        "#QUE4: What is the purpose of the return statement in a Python function ?\n",
        "#ANS:\n",
        "The return statement in a Python function is used to send back a result (or value) from the function to the place where it was called. When a function executes a return statement, it exits the function and optionally gives a value to the caller.\n",
        "Its main point is as follows:\n",
        "\n",
        "- Exits the function: When Python encounters a return statement, it stops the function’s execution immediately and exits the function.\n",
        "\n",
        "- Sends a value back: The return statement can return a value to the caller, which can then be used later.\n",
        "\n",
        "#QUE5: What are iterators in Python and how do they differ from iterables ?\n",
        "#ANS:\n",
        "Iterators: An iterator is an object that represents a stream of data. It is the object that actually produces the values when the for loop iterates over it. Also an object that knows how to access its elements one at a time. It keeps track of the current position in the sequence.\n",
        "\n",
        "Iterables: An iterable is any Python object that can be iterated over (looped through) using a for loop or other iteration techniques. An iterable is any object that implements the iter() method or has a getitem() method.\n",
        "\n",
        "NOTE An iterable is used to create an iterator, and once created, an iterator can only be traversed once unless it’s recreated.\n",
        "\n",
        "#QUE6: Explain the concept of generators in Python and how they are defined ?\n",
        "#ANS:\n",
        "Generators are a special type of iterator in Python that allow you to iterate over a sequence of values. They are used for lazy evaluation, meaning that they generate values one at a time and only when needed, which can be much more memory-efficient for large datasets compared to using a list or other iterable.\n",
        "\n",
        "Instead of computing all values at once, a generator yields values one by one, pausing its state between each value.\n",
        "\n",
        "*Advantages of Generators*\n",
        "\n",
        "Memory Efficiency: Generators are memory-efficient because they generate values one by one without storing all of them in memory. This is especially useful for large datasets.\n",
        "\n",
        "Lazy Evaluation: Values are only computed when they are requested, allowing you to work with infinite or large sequences without needing to generate all values upfront.\n",
        "\n",
        "Performance: In some cases, generators can improve performance by not requiring all values to be calculated or stored at once.\n",
        "\n",
        "#QUE7: What are the advantages of using generators over regular functions ?\n",
        "#ANS:\n",
        "There are several advantages of using generators which are mentioned below:\n",
        "\n",
        "- Memory Efficiency: Generators are highly memory-efficient because they yield one value at a time and do not store all values in memory. Regular functions, on the other hand, typically generate and store the entire sequence in memory (like a list).\n",
        "\n",
        "- Lazy Evaluation: Generators provide lazy evaluation, meaning they generate values only when requested. This is useful in scenarios where you don't need all the values at once.\n",
        "\n",
        "- Better Performance for Large Data Sets: Because generators produce values on demand and only keep track of their state, they can be much more efficient for working with large datasets. This is especially useful in loops and data processing.\n",
        "\n",
        "- Simplified Code with yield: Generators can simplify code in certain scenarios by eliminating the need for managing iteration manually. For example, with stateful computations, the generator function manages the state of the computation (via yield), without you needing to handle explicit loops or states.\n",
        "\n",
        "#QUE8: What is a lambda function in Python and when is it typically used ?\n",
        "#ANS:\n",
        "A lambda function in Python is a small, anonymous function that is defined using the lambda keyword. Unlike regular functions defined with def, lambda functions are typically used for short, simple operations that don't require a full function definition. They are also known as anonymous functions because they don't need a name.\n",
        "\n",
        "Syntax of a lambda function is :\n",
        "\n",
        "lambda arguments : expression\n",
        "\n",
        "*USE CASES*\n",
        "\n",
        "Short, One-off Functions: Lambda functions are ideal for cases where you need a simple function for a short period of time (like as an argument to another function).\n",
        "\n",
        "Functional Programming (map(), filter(), reduce()): Lambda functions are frequently used with functions like map(), filter(), and reduce() (from the functools module) where you need to apply a function to a sequence of items.\n",
        "\n",
        "Callbacks: When passing a simple function as a callback (like event handlers or sorting functions).\n",
        "\n",
        "#QUE9: Explain the purpose and usage of the map() function in Python ?\n",
        "#ANS:\n",
        "The map() function in Python is a built-in function that applies a given function to all items in an iterable (like a list, tuple, etc.) and returns a map object (an iterator) that yields the results of the function applied to each element.\n",
        "\n",
        "In other words, map() helps you transform or modify all elements of an iterable using a function, without needing an explicit loop. It can be very useful when you need to apply the same operation to a series of values.\n",
        "\n",
        "Syntax of map():\n",
        "\n",
        "map(function, iterable, )\n",
        "\n",
        "*USAGE OF MAP*\n",
        "\n",
        "- It applies the function to each item of the iterable(s), one item at a time, and returns a map object that you can iterate over.\n",
        "\n",
        "- If there are multiple iterables, the function must accept as many arguments as there are iterables. map() will apply the function using the elements of the iterables in parallel (i.e., element 1 from each iterable, element 2 from each iterable, etc.).\n",
        "\n",
        "#QUE10: What is the difference between map(), reduce(), and filter() functions in Python ?\n",
        "#ANS:\n",
        "*MAP FUNCTION*\n",
        "\n",
        "Purpose: map() applies a function to every item in an iterable (or multiple iterables) and returns an iterator that yields the results.\n",
        "\n",
        "Usage: Typically used when you want to transform or modify each item of an iterable by applying a function to it.\n",
        "\n",
        "Returns: A map object (which is an iterator). You can convert it to a list, tuple, etc.\n",
        "\n",
        "*REDUCE FUNCTION*\n",
        "\n",
        "Purpose: reduce() is used to reduce an iterable to a single cumulative value by applying a binary function (a function that takes two arguments) to the items of the iterable.\n",
        "\n",
        "Usage: Often used when you want to accumulate or combine the values in an iterable, such as calculating a sum, product, or applying a more complex operation.\n",
        "\n",
        "Returns: A single value, which is the result of applying the function cumulatively to the items of the iterable.\n",
        "\n",
        "*FILTER FUNCTION*\n",
        "\n",
        "Purpose: filter() is used to filter out elements from an iterable by applying a function that returns either True or False for each item.\n",
        "\n",
        "Usage: Typically used when you want to select certain items from an iterable based on a condition. The function should return True for elements you want to keep and False for those you want to exclude.\n",
        "\n",
        "Returns: A filter object (an iterator). You can convert it to a list, tuple, etc.\n",
        "\n",
        "#QUE11: Using pen & Paper write the internal mechanism for sum operation using reduce function on this given list:[47,11,42,13] ?\n",
        "#ANS: I HAVE UPLOADED THE IMAGE SEPARATELY IN THE GITHUB. PLEASE CHECK THERE.\n"
      ],
      "metadata": {
        "id": "j2yGdQ7R03Gn"
      }
    },
    {
      "cell_type": "markdown",
      "source": [
        "##PRACTICAL QUESTIONS"
      ],
      "metadata": {
        "id": "Ub24b0rc3YFw"
      }
    },
    {
      "cell_type": "code",
      "source": [
        "#QUE1: Write a Python function that takes a list of numbers as input and returns the sum of all even numbers in the list ?\n",
        "#ANS:\n",
        "def sum_of_even_numbers(nums):\n",
        "  return sum(num for num in nums if num % 2 == 0)\n",
        "numbers = [1,2,3,4,5,6]\n",
        "result = sum_of_even_numbers(numbers)\n",
        "print(result)"
      ],
      "metadata": {
        "colab": {
          "base_uri": "https://localhost:8080/"
        },
        "id": "WxLoMUzW3cf5",
        "outputId": "3f072b29-b056-419a-b19e-5bdbb50c4c86"
      },
      "execution_count": null,
      "outputs": [
        {
          "output_type": "stream",
          "name": "stdout",
          "text": [
            "12\n"
          ]
        }
      ]
    },
    {
      "cell_type": "code",
      "source": [
        "#QUE2: Create a Python function that accepts a string and returns the reverse of that string ?\n",
        "#ANS:\n",
        "def reverse_string(s):\n",
        "  return s[::-1]\n",
        "string = \"MY NAME IS SHREYANSH\"\n",
        "reversed_string = string[::-1]\n",
        "print(reversed_string)"
      ],
      "metadata": {
        "colab": {
          "base_uri": "https://localhost:8080/"
        },
        "id": "S1w3hX6l3d4k",
        "outputId": "087addbd-941e-4516-f17b-3e6e8906d7d4"
      },
      "execution_count": null,
      "outputs": [
        {
          "output_type": "stream",
          "name": "stdout",
          "text": [
            "HSNAYERHS SI EMAN YM\n"
          ]
        }
      ]
    },
    {
      "cell_type": "code",
      "source": [
        "#QUE3:  Implement a Python function that takes a list of integers and returns a new list containing the squares of each number ?\n",
        "#ANS:\n",
        "def square_numbers(nums):\n",
        "  return [num ** 2 for num in nums]\n",
        "  numbers = [1, 2, 3, 4, 5]\n",
        "squared_numbers = square_numbers(numbers)\n",
        "print(squared_numbers)"
      ],
      "metadata": {
        "colab": {
          "base_uri": "https://localhost:8080/"
        },
        "id": "3XsIZy1f3kyP",
        "outputId": "461a6e8c-cdea-4a25-a57b-9354c760527f"
      },
      "execution_count": null,
      "outputs": [
        {
          "output_type": "stream",
          "name": "stdout",
          "text": [
            "[1, 4, 9, 16, 25, 36]\n"
          ]
        }
      ]
    },
    {
      "cell_type": "code",
      "source": [
        "#QUE4: Write a Python function that checks if a given number is prime or not from 1 to 200 ?\n",
        "#ANS:\n",
        "def is_prime(n):\n",
        "    if n <= 1 or n > 200:\n",
        "        return False  # numbers outside the range 1-200 are not prime\n",
        "    for i in range(2, int(n ** 0.5) + 1):\n",
        "        if n % i == 0:\n",
        "            return False  # if divisible by any number other than 1 and itself\n",
        "    return True\n",
        "numbers = [1, 2, 3, 10, 17, 200]\n",
        "prime_numbers = [num for num in numbers if is_prime(num)]\n",
        "print(prime_numbers)  # Output will be [2, 3, 17]"
      ],
      "metadata": {
        "colab": {
          "base_uri": "https://localhost:8080/"
        },
        "id": "OGRaguNQ3ggh",
        "outputId": "dac52db8-10ed-4a0b-f8a9-e835c6cd91a2"
      },
      "execution_count": null,
      "outputs": [
        {
          "output_type": "stream",
          "name": "stdout",
          "text": [
            "[2, 3, 17]\n"
          ]
        }
      ]
    },
    {
      "cell_type": "code",
      "source": [
        "#QUE5: Create an iterator class in Python that generates the Fibonacci sequence up to a specified number of terms ?\n",
        "#ANS:\n",
        "class FibonacciIterator:\n",
        "    def __init__(self, terms):\n",
        "        self.terms = terms\n",
        "        self.a, self.b = 0, 1\n",
        "        self.count = 0\n",
        "\n",
        "    def __iter__(self):\n",
        "        return self\n",
        "\n",
        "    def __next__(self):\n",
        "        if self.count >= self.terms:\n",
        "            raise StopIteration\n",
        "        else:\n",
        "            fib_number = self.a\n",
        "            self.a, self.b = self.b, self.a + self.b\n",
        "            self.count += 1\n",
        "            return fib_number\n",
        "\n",
        "fib = FibonacciIterator(10)\n",
        "\n",
        "for num in fib:\n",
        "    print(num)"
      ],
      "metadata": {
        "colab": {
          "base_uri": "https://localhost:8080/"
        },
        "id": "jboaU04s3x3_",
        "outputId": "f957f494-daba-464b-8cb5-38f98e11d468"
      },
      "execution_count": null,
      "outputs": [
        {
          "output_type": "stream",
          "name": "stdout",
          "text": [
            "0\n",
            "1\n",
            "1\n",
            "2\n",
            "3\n",
            "5\n",
            "8\n",
            "13\n",
            "21\n",
            "34\n"
          ]
        }
      ]
    },
    {
      "cell_type": "code",
      "source": [
        "#QUE6: Write a generator function in Python that yields the powers of 2 up to a given exponent ?\n",
        "#ANS:\n",
        "def powers_of_2(exponent):\n",
        "    for i in range(exponent + 1):\n",
        "        yield 2 ** i\n",
        "gen = powers_of_2(5)\n",
        "\n",
        "\n",
        "for value in gen:\n",
        "    print(value)"
      ],
      "metadata": {
        "colab": {
          "base_uri": "https://localhost:8080/"
        },
        "id": "XBcFcLFN319Q",
        "outputId": "6c7607c6-b702-4955-9f0c-8a712500610c"
      },
      "execution_count": null,
      "outputs": [
        {
          "output_type": "stream",
          "name": "stdout",
          "text": [
            "1\n",
            "2\n",
            "4\n",
            "8\n",
            "16\n",
            "32\n"
          ]
        }
      ]
    },
    {
      "cell_type": "code",
      "source": [
        "#QUE7: Implement a generator function that reads a file line by line and yields each line as a string ?\n",
        "#ANS: I DON'T KNOW THIS ANSWER. KINDLY HELP ME WITH THIS."
      ],
      "metadata": {
        "id": "ahsihMG436Qh"
      },
      "execution_count": null,
      "outputs": []
    },
    {
      "cell_type": "code",
      "source": [
        "#QUE8:  Use a lambda function in Python to sort a list of tuples based on the second element of each tuple ?\n",
        "#ANS:\n",
        "tuples = [(1, 3), (3, 2), (2, 1)]\n",
        "sorted_tuples = sorted(tuples, key=lambda x: x[1])\n",
        "print(sorted_tuples)"
      ],
      "metadata": {
        "colab": {
          "base_uri": "https://localhost:8080/"
        },
        "id": "GU0uyCeE39F5",
        "outputId": "f627e40a-dad0-4dcd-bdb1-19699b3870df"
      },
      "execution_count": null,
      "outputs": [
        {
          "output_type": "stream",
          "name": "stdout",
          "text": [
            "[(2, 1), (3, 2), (1, 3)]\n"
          ]
        }
      ]
    },
    {
      "cell_type": "code",
      "source": [
        "#QUE9: Write a Python program that uses `map()` to convert a list of temperatures from Celsius to Fahrenheit ?\n",
        "#ANS:\n",
        "def celsius_to_fahrenheit(celsius):\n",
        "  return (celsius * 9/5) + 32\n",
        "celsius_temperatures = [0, 10, 20, 30, 40]\n",
        "fahrenheit_temperatures = list(map(celsius_to_fahrenheit, celsius_temperatures))\n",
        "print(fahrenheit_temperatures)"
      ],
      "metadata": {
        "colab": {
          "base_uri": "https://localhost:8080/"
        },
        "id": "QmfHdRr73_mP",
        "outputId": "a2003594-859c-430d-eb76-cfa156503720"
      },
      "execution_count": null,
      "outputs": [
        {
          "output_type": "stream",
          "name": "stdout",
          "text": [
            "[32.0, 50.0, 68.0, 86.0, 104.0]\n"
          ]
        }
      ]
    },
    {
      "cell_type": "code",
      "source": [
        "#QUE10: Create a Python program that uses `filter()` to remove all the vowels from a given string ?\n",
        "#ANS:\n",
        "def remove_vowels(string):\n",
        "  vowels = \"aeiouAEIOU\"\n",
        "  return \"\".join(filter(lambda char: char not in vowels, string))\n",
        "string = \"MY NAME IS SHREYANSH\"\n",
        "result = remove_vowels(string)\n",
        "print(result)"
      ],
      "metadata": {
        "colab": {
          "base_uri": "https://localhost:8080/"
        },
        "id": "WxA07gVg4Ee0",
        "outputId": "28f0dc92-1cbd-4920-9083-54564869f278"
      },
      "execution_count": null,
      "outputs": [
        {
          "output_type": "stream",
          "name": "stdout",
          "text": [
            "MY NM S SHRYNSH\n"
          ]
        }
      ]
    },
    {
      "cell_type": "code",
      "source": [
        "#QUE11: ) Imagine an accounting routine used in a book shop. It works on a list with sublists, which look like this:\n",
        "#Order number      Book Title and Author                Quantity      Price Per Item\n",
        "34587             #Learning Python, Mark Lutz              4            40.95\n",
        "98762             #Programming Python, Mark Lutz           5            56.80\n",
        "77226             #Head First Python, Paul Barry           3            32.95\n",
        "88112             #Einführung in Python3, Bernd Klein      3            24.99\n",
        "\n",
        "\n",
        "#Write a python program, which returns a list of 2- tuples. Each tuple consists of the order number and the product of the price\n",
        "#per item and the quantity. The product should be increased by 10, -€ if the value of the order is smaller than 100,00 €.\n",
        "#Write a python program using lambda and map?\n",
        "\n",
        "#ANS:\n",
        "orders = [\n",
        "    [34587, \"Learning Python, Mark Lutz\", 4, 40.95],\n",
        "    [98762, \"Programming Python, Mark Lutz\", 5, 56.80],\n",
        "    [77226, \"Head First Python, Paul Barry\", 3, 32.95],\n",
        "    [88112, \"Einführung in Python3, Bernd Klein\", 3, 24.99]\n",
        "]\n",
        "\n",
        "order_totals = list(map(lambda order: (order[0], order[2], (order[2] * order[3]) + 10 if order[2] * order[3] < 100 else order[2] * order[3]), orders))\n",
        "print(order_totals)"
      ],
      "metadata": {
        "colab": {
          "base_uri": "https://localhost:8080/"
        },
        "id": "ZKKuvEOq4IYY",
        "outputId": "badff302-49e0-4204-d086-3818b7ffa0c5"
      },
      "execution_count": null,
      "outputs": [
        {
          "output_type": "stream",
          "name": "stdout",
          "text": [
            "[(34587, 4, 163.8), (98762, 5, 284.0), (77226, 3, 108.85000000000001), (88112, 3, 84.97)]\n"
          ]
        }
      ]
    }
  ]
}